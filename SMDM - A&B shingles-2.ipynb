{
 "cells": [
  {
   "cell_type": "code",
   "execution_count": 21,
   "metadata": {},
   "outputs": [],
   "source": [
    "import pandas as pd\n",
    "import matplotlib.pyplot as plt\n",
    "%matplotlib inline\n",
    "import statsmodels.api as sm\n",
    "import scipy.stats as stats\n",
    "import seaborn as sns\n",
    "import numpy as np\n",
    "from sklearn.preprocessing import LabelEncoder\n",
    "sns.set(color_codes=True)\n",
    "import copy\n",
    "sns.set()"
   ]
  },
  {
   "cell_type": "code",
   "execution_count": 3,
   "metadata": {},
   "outputs": [
    {
     "data": {
      "text/html": [
       "<div>\n",
       "<style scoped>\n",
       "    .dataframe tbody tr th:only-of-type {\n",
       "        vertical-align: middle;\n",
       "    }\n",
       "\n",
       "    .dataframe tbody tr th {\n",
       "        vertical-align: top;\n",
       "    }\n",
       "\n",
       "    .dataframe thead th {\n",
       "        text-align: right;\n",
       "    }\n",
       "</style>\n",
       "<table border=\"1\" class=\"dataframe\">\n",
       "  <thead>\n",
       "    <tr style=\"text-align: right;\">\n",
       "      <th></th>\n",
       "      <th>A</th>\n",
       "      <th>B</th>\n",
       "    </tr>\n",
       "  </thead>\n",
       "  <tbody>\n",
       "    <tr>\n",
       "      <th>0</th>\n",
       "      <td>0.44</td>\n",
       "      <td>0.14</td>\n",
       "    </tr>\n",
       "    <tr>\n",
       "      <th>1</th>\n",
       "      <td>0.61</td>\n",
       "      <td>0.15</td>\n",
       "    </tr>\n",
       "    <tr>\n",
       "      <th>2</th>\n",
       "      <td>0.47</td>\n",
       "      <td>0.31</td>\n",
       "    </tr>\n",
       "    <tr>\n",
       "      <th>3</th>\n",
       "      <td>0.30</td>\n",
       "      <td>0.16</td>\n",
       "    </tr>\n",
       "    <tr>\n",
       "      <th>4</th>\n",
       "      <td>0.15</td>\n",
       "      <td>0.37</td>\n",
       "    </tr>\n",
       "  </tbody>\n",
       "</table>\n",
       "</div>"
      ],
      "text/plain": [
       "      A     B\n",
       "0  0.44  0.14\n",
       "1  0.61  0.15\n",
       "2  0.47  0.31\n",
       "3  0.30  0.16\n",
       "4  0.15  0.37"
      ]
     },
     "execution_count": 3,
     "metadata": {},
     "output_type": "execute_result"
    }
   ],
   "source": [
    "ABS = pd.read_csv('shingles.csv')\n",
    "ABS.head()"
   ]
  },
  {
   "cell_type": "code",
   "execution_count": 4,
   "metadata": {},
   "outputs": [],
   "source": [
    "# Hypothesis formation:\n",
    "# for Shingles A:\n",
    "# Let the Random variable X represent the moisture content for shingles A in pounds per 100 Sq feet\n",
    "# Null Hypothesis:  Ho: u > 0.35\n",
    "# Alternate Hypotheses: Ha <= 0.35\n",
    "\n",
    "# Hypothesis formation:\n",
    "# for Shingles B:\n",
    "# Let the Random variable Y represent the moisture content for shingles B in pounds per 100 Sq feet\n",
    "# Null Hypothesis:  Ho: u > 0.35\n",
    "# Alternate Hypotheses: Ha <= 0.35\n"
   ]
  },
  {
   "cell_type": "code",
   "execution_count": 47,
   "metadata": {},
   "outputs": [
    {
     "name": "stdout",
     "output_type": "stream",
     "text": [
      "       A\n",
      "0   0.44\n",
      "1   0.61\n",
      "2   0.47\n",
      "3   0.30\n",
      "4   0.15\n",
      "5   0.24\n",
      "6   0.16\n",
      "7   0.20\n",
      "8   0.20\n",
      "9   0.20\n",
      "10  0.26\n",
      "11  0.14\n",
      "12  0.33\n",
      "13  0.13\n",
      "14  0.72\n",
      "15  0.51\n",
      "16  0.28\n",
      "17  0.39\n",
      "18  0.39\n",
      "19  0.25\n",
      "20  0.16\n",
      "21  0.20\n",
      "22  0.22\n",
      "23  0.42\n",
      "24  0.24\n",
      "25  0.21\n",
      "26  0.49\n",
      "27  0.34\n",
      "28  0.36\n",
      "29  0.29\n",
      "30  0.27\n",
      "31  0.40\n",
      "32  0.29\n",
      "33  0.43\n",
      "34  0.34\n",
      "35  0.37\n",
      "\n",
      "Mean is A    0.316667\n",
      "dtype: float64\n",
      "t-statistic -1.4735046253382782\n",
      "p-value 0.14955266289815025\n",
      "we accept null hypothesis\n"
     ]
    }
   ],
   "source": [
    "# Test of hypothesis for Shingle A\n",
    "from scipy.stats import ttest_1samp\n",
    "# Separating the two groups\n",
    "ABS_A = ABS.drop(['B'],axis=1)\n",
    "print(ABS_A)\n",
    "print('')\n",
    "print('Mean is',ABS_A.mean())\n",
    "alpha=0.05\n",
    "result = stats.ttest_1samp(ABS_A['A'], 0.35)\n",
    "\n",
    "print('t-statistic', result[0])\n",
    "print('p-value', result[1])\n",
    "\n",
    "if (result[0] > 0) & (result[1]/2 < alpha):\n",
    "    print(\"we reject null hypothesis\")\n",
    "else:\n",
    "    print(\"we accept null hypothesis\")"
   ]
  },
  {
   "cell_type": "code",
   "execution_count": 9,
   "metadata": {},
   "outputs": [
    {
     "data": {
      "text/plain": [
       "A    0.316667\n",
       "B    0.273548\n",
       "dtype: float64"
      ]
     },
     "execution_count": 9,
     "metadata": {},
     "output_type": "execute_result"
    }
   ],
   "source": [
    "# comparison of two populations A & B\n",
    "ABS.mean()"
   ]
  },
  {
   "cell_type": "code",
   "execution_count": null,
   "metadata": {},
   "outputs": [],
   "source": []
  },
  {
   "cell_type": "code",
   "execution_count": 49,
   "metadata": {},
   "outputs": [
    {
     "name": "stdout",
     "output_type": "stream",
     "text": [
      "       B\n",
      "0   0.14\n",
      "1   0.15\n",
      "2   0.31\n",
      "3   0.16\n",
      "4   0.37\n",
      "5   0.18\n",
      "6   0.42\n",
      "7   0.58\n",
      "8   0.25\n",
      "9   0.41\n",
      "10  0.17\n",
      "11  0.13\n",
      "12  0.23\n",
      "13  0.11\n",
      "14  0.10\n",
      "15  0.19\n",
      "16  0.22\n",
      "17  0.44\n",
      "18  0.11\n",
      "19  0.11\n",
      "20  0.31\n",
      "21  0.43\n",
      "22  0.26\n",
      "23  0.18\n",
      "24  0.44\n",
      "25  0.43\n",
      "26  0.16\n",
      "27  0.52\n",
      "28  0.36\n",
      "29  0.22\n",
      "30  0.39\n",
      "\n",
      "Mean is B    0.273548\n",
      "dtype: float64\n",
      "t-statistic -3.1003313069986995\n",
      "p-value 0.004180954800638363\n",
      "we accept null hypothesis\n"
     ]
    }
   ],
   "source": [
    "# dropping not available values\n",
    "\n",
    "ABS_B = ABS.drop(['A'],axis=1)\n",
    "ABS_B = ABS_B.dropna()\n",
    "print(ABS_B)\n",
    "\n",
    "print('')\n",
    "print('Mean is', ABS_B.mean())\n",
    "\n",
    "result1 = stats.ttest_1samp(ABS_B['B'], 0.35)\n",
    "\n",
    "print('t-statistic', result1[0])\n",
    "print('p-value', result1[1])\n",
    "\n",
    "if (result1[0] > 0) & (result1[1]/2 < alpha):\n",
    "    print(\"we reject null hypothesis\")\n",
    "else:\n",
    "    print(\"we accept null hypothesis\")"
   ]
  },
  {
   "cell_type": "code",
   "execution_count": 43,
   "metadata": {},
   "outputs": [
    {
     "name": "stdout",
     "output_type": "stream",
     "text": [
      "A    0.316667\n",
      "dtype: float64\n",
      "B    0.273548\n",
      "dtype: float64\n",
      "t-statistic 1.289628271966112\n",
      "p-value 0.2017496571835328\n",
      "we accept null hypothesis\n"
     ]
    }
   ],
   "source": [
    "# Null Hypothesis - Ho: Ua=Ub (means of both the data sets are equal)\n",
    "# Alternate hypotheseis - Ha: Ua<>Ub (means of both the data sets are not equal)\n",
    "print(ABS_A.mean())\n",
    "print(ABS_B.mean())\n",
    "\n",
    "result2 = stats.ttest_ind(ABS_A['A'], ABS_B['B'])\n",
    "\n",
    "print('t-statistic', result2[0])\n",
    "print('p-value', result2[1])\n",
    "if result2[1] < alpha:\n",
    "    print(\"we reject null hypothesis\")\n",
    "else:\n",
    "    print(\"we accept null hypothesis\")"
   ]
  },
  {
   "cell_type": "code",
   "execution_count": 50,
   "metadata": {},
   "outputs": [
    {
     "data": {
      "text/plain": [
       "<matplotlib.axes._subplots.AxesSubplot at 0x1c23c67d30>"
      ]
     },
     "execution_count": 50,
     "metadata": {},
     "output_type": "execute_result"
    },
    {
     "data": {
      "image/png": "[encoded data removed]",
      "text/plain": [
       "<Figure size 432x288 with 1 Axes>"
      ]
     },
     "metadata": {},
     "output_type": "display_data"
    }
   ],
   "source": [
    "sns.distplot(ABS_A['A'])"
   ]
  },
  {
   "cell_type": "code",
   "execution_count": 51,
   "metadata": {},
   "outputs": [
    {
     "data": {
      "text/plain": [
       "<matplotlib.axes._subplots.AxesSubplot at 0x1c23c7d0b8>"
      ]
     },
     "execution_count": 51,
     "metadata": {},
     "output_type": "execute_result"
    },
    {
     "data": {
      "image/png": "[encoded data removed]",
      "text/plain": [
       "<Figure size 432x288 with 1 Axes>"
      ]
     },
     "metadata": {},
     "output_type": "display_data"
    }
   ],
   "source": [
    "sns.distplot(ABS_B['B'])"
   ]
  },
  {
   "cell_type": "code",
   "execution_count": null,
   "metadata": {},
   "outputs": [],
   "source": []
  }
 ],
 "metadata": {
  "kernelspec": {
   "display_name": "Python 3",
   "language": "python",
   "name": "python3"
  },
  "language_info": {
   "codemirror_mode": {
    "name": "ipython",
    "version": 3
   },
   "file_extension": ".py",
   "mimetype": "text/x-python",
   "name": "python",
   "nbconvert_exporter": "python",
   "pygments_lexer": "ipython3",
   "version": "3.7.1"
  }
 },
 "nbformat": 4,
 "nbformat_minor": 2
}
